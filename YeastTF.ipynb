{
 "cells": [
  {
   "cell_type": "code",
   "execution_count": 1,
   "id": "4c5a5c5b",
   "metadata": {},
   "outputs": [],
   "source": [
    "from nn import NeuralNetwork\n",
    "from nn import preprocess\n",
    "from nn import io\n",
    "from sklearn.model_selection import train_test_split\n",
    "import numpy as np"
   ]
  },
  {
   "cell_type": "code",
   "execution_count": 3,
   "id": "652af1b7",
   "metadata": {},
   "outputs": [],
   "source": [
    "#Read in positive seqs and negative seqs and create labels for them (1 = TF, 0 = not TF)\n",
    "#Resample the data and one hot encode it to prepare the data for NN training\n",
    "#Split into test and train supsets\n",
    "\n",
    "'''\n",
    "EXPLANATION OF SAMPLING SCHEME: Because the TF sequences were all 17bp long, I needed to\n",
    "split the data into groups of 17. Also, I know DNA is read in codons of three, which means\n",
    "there are three possible reading frames. So I preprocessed the data to capture all of the\n",
    "possible reading frames for the groups of 17 from the negative sequences. I then created\n",
    "list of 1's and 0's corresponding to the negative and positive lists and mae those the\n",
    "targets. For the actual sampling, the method randomly picks between 1 or 0, if it picks 1,\n",
    "it then randomly grabs a positive sequence and label. If it picks 0, then it randomly selects\n",
    "a negative sequence and label. This produces a random ~50/50 split of positive and negative\n",
    "seqs for training. The sample seq also limits it to 10000 sequences for computational ease.\n",
    "'''\n",
    "\n",
    "pos_X = io.read_text_file('./data/rap1-lieb-positives.txt') #17bp\n",
    "pos_y = [1] * len(pos_X)\n",
    "neg_X_raw = io.read_fasta_file('./data/yeast-upstream-1k-negative.fa') #1000bp\n",
    "neg_X = []\n",
    "for seq in neg_X_raw:\n",
    "    neg_len = int((len(seq)-1)/3)\n",
    "    for idx in range(neg_len):\n",
    "        idx = idx * 3\n",
    "        snip = seq[idx:idx+17]\n",
    "        if len(snip) == 17:\n",
    "            neg_X.append(snip)\n",
    "        snip = seq[idx+1:idx+18]\n",
    "        if len(snip) == 17:\n",
    "            neg_X.append(snip)\n",
    "        snip = seq[idx+2:idx+19]\n",
    "        if len(snip) == 17:\n",
    "            neg_X.append(snip)\n",
    "neg_y = [0] * len(neg_X)\n",
    "\n",
    "\n",
    "sampled_seqs_pre, sampled_labels = preprocess.sample_seqs(pos_X, neg_X, pos_y, neg_y)\n",
    "sampled_seqs = preprocess.one_hot_encode_seqs(sampled_seqs_pre)\n",
    "X_train, X_test, y_train, y_test = train_test_split(sampled_seqs, sampled_labels,\n",
    "                                                            test_size=0.15, random_state=42)"
   ]
  },
  {
   "cell_type": "code",
   "execution_count": 40,
   "id": "54be5e6c",
   "metadata": {},
   "outputs": [],
   "source": [
    "#Initialize the NN\n",
    "\n",
    "'''\n",
    "EXPLANATION OF HYPERPARAMETER CHOICE: I didn't automate the tuning of the hyperparameters, \n",
    "so I tuned by trial and error because the code didn't take too long to run. I found a learning\n",
    "rate of .0002 to strike a balance between hitting a minimum quickly without become jagged\n",
    "and overshooting. With those parameters, the elbow region was around 10 epochs, so I chose\n",
    "that as the epoch number. Because I used the sigmoid activation fucntion, the the answers are\n",
    "0 or 1, I used binary cross entropy as the loss function\n",
    "'''\n",
    "\n",
    "lr=.0002\n",
    "seed=1\n",
    "batch_size=2\n",
    "epochs=10\n",
    "nn = NeuralNetwork([{'input_dim': 68, 'output_dim': 32, 'activation': 'sigmoid'},\n",
    "                    {'input_dim': 32, 'output_dim': 16, 'activation': 'sigmoid'},\n",
    "                    {'input_dim': 16, 'output_dim': 4, 'activation': 'sigmoid'},\n",
    "                    {'input_dim': 4, 'output_dim': 1, 'activation': 'sigmoid'}],\n",
    "                   lr, seed, batch_size, epochs, 'binary cross entropy')"
   ]
  },
  {
   "cell_type": "code",
   "execution_count": 41,
   "id": "f0ab8d06",
   "metadata": {},
   "outputs": [
    {
     "data": {
      "image/png": "[encoded data removed]",
      "text/plain": [
       "<Figure size 432x288 with 1 Axes>"
      ]
     },
     "metadata": {
      "needs_background": "light"
     },
     "output_type": "display_data"
    },
    {
     "name": "stdout",
     "output_type": "stream",
     "text": [
      "Average Training Error: 0.3010288219531233\n",
      "Average Validation Error: 0.3010308312784321\n"
     ]
    }
   ],
   "source": [
    "#Fit the model and print errors\n",
    "train_error, validation_error = nn.fit(X_train, y_train, X_test, y_test)\n",
    "print(f'Average Training Error: {np.mean(train_error)}')\n",
    "print(f'Average Validation Error: {np.mean(validation_error)}')"
   ]
  },
  {
   "cell_type": "code",
   "execution_count": null,
   "id": "69827806",
   "metadata": {},
   "outputs": [],
   "source": []
  }
 ],
 "metadata": {
  "kernelspec": {
   "display_name": "Python 3 (ipykernel)",
   "language": "python",
   "name": "python3"
  },
  "language_info": {
   "codemirror_mode": {
    "name": "ipython",
    "version": 3
   },
   "file_extension": ".py",
   "mimetype": "text/x-python",
   "name": "python",
   "nbconvert_exporter": "python",
   "pygments_lexer": "ipython3",
   "version": "3.9.12"
  }
 },
 "nbformat": 4,
 "nbformat_minor": 5
}
