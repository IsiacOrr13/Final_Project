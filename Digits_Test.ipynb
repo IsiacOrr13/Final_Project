{
 "cells": [
  {
   "cell_type": "code",
   "execution_count": 1,
   "id": "71b12743",
   "metadata": {},
   "outputs": [],
   "source": [
    "from nn import NeuralNetwork\n",
    "import numpy as np\n",
    "from sklearn.datasets import load_digits\n",
    "from sklearn.model_selection import train_test_split"
   ]
  },
  {
   "cell_type": "code",
   "execution_count": 2,
   "id": "c05029c1",
   "metadata": {},
   "outputs": [],
   "source": [
    "# Get data and split it into training and validation\n",
    "digits = load_digits(return_X_y=True)\n",
    "data = digits[0]\n",
    "target = digits[1]\n",
    "X_train, X_test, y_train, y_test = train_test_split(data, data, test_size=0.15, random_state=42)"
   ]
  },
  {
   "cell_type": "code",
   "execution_count": 13,
   "id": "b1f5043a",
   "metadata": {},
   "outputs": [],
   "source": [
    "# Initialize the NeuralNetwork Class\n",
    "lr=.00002\n",
    "seed=1\n",
    "batch_size=2\n",
    "epochs=130\n",
    "nn = NeuralNetwork([{'input_dim': 64, 'output_dim': 16, 'activation': 'relu'},\n",
    "                    {'input_dim': 16, 'output_dim': 64, 'activation': 'sigmoid'}],\n",
    "                   lr, seed, batch_size, epochs, 'binary cross entropy')"
   ]
  },
  {
   "cell_type": "code",
   "execution_count": 12,
   "id": "cc0efa20",
   "metadata": {},
   "outputs": [
    {
     "data": {
      "image/png": "[encoded data removed]",
      "text/plain": [
       "<Figure size 432x288 with 1 Axes>"
      ]
     },
     "metadata": {
      "needs_background": "light"
     },
     "output_type": "display_data"
    },
    {
     "name": "stdout",
     "output_type": "stream",
     "text": [
      "0.3395967077487439\n",
      "0.3442433738501537\n"
     ]
    }
   ],
   "source": [
    "#Fit the Model\n",
    "train_error, validation_error = nn.fit(X_train, y_train, X_test, y_test)\n",
    "print(np.mean(train_error))\n",
    "print(np.mean(validation_error))"
   ]
  }
 ],
 "metadata": {
  "kernelspec": {
   "display_name": "Python 3 (ipykernel)",
   "language": "python",
   "name": "python3"
  },
  "language_info": {
   "codemirror_mode": {
    "name": "ipython",
    "version": 3
   },
   "file_extension": ".py",
   "mimetype": "text/x-python",
   "name": "python",
   "nbconvert_exporter": "python",
   "pygments_lexer": "ipython3",
   "version": "3.9.12"
  }
 },
 "nbformat": 4,
 "nbformat_minor": 5
}
